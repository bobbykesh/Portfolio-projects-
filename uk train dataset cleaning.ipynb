{
 "cells": [
  {
   "cell_type": "code",
   "execution_count": 138,
   "id": "5ab57655-e6ca-4f64-9016-391d9d86797c",
   "metadata": {},
   "outputs": [],
   "source": [
    "import pandas as pd "
   ]
  },
  {
   "cell_type": "code",
   "execution_count": 139,
   "id": "83dc7418-1d50-47df-87e5-baecbc5216e6",
   "metadata": {},
   "outputs": [],
   "source": [
    "data = pd.read_csv(r'C:\\Users\\ADMIN\\Desktop\\projects\\UK+Train+Rides\\railway.csv')"
   ]
  },
  {
   "cell_type": "code",
   "execution_count": 140,
   "id": "fd25b57f-15cd-40f6-b885-266efc492a14",
   "metadata": {},
   "outputs": [
    {
     "data": {
      "text/html": [
       "<div>\n",
       "<style scoped>\n",
       "    .dataframe tbody tr th:only-of-type {\n",
       "        vertical-align: middle;\n",
       "    }\n",
       "\n",
       "    .dataframe tbody tr th {\n",
       "        vertical-align: top;\n",
       "    }\n",
       "\n",
       "    .dataframe thead th {\n",
       "        text-align: right;\n",
       "    }\n",
       "</style>\n",
       "<table border=\"1\" class=\"dataframe\">\n",
       "  <thead>\n",
       "    <tr style=\"text-align: right;\">\n",
       "      <th></th>\n",
       "      <th>Transaction ID</th>\n",
       "      <th>Date of Purchase</th>\n",
       "      <th>Time of Purchase</th>\n",
       "      <th>Purchase Type</th>\n",
       "      <th>Payment Method</th>\n",
       "      <th>Railcard</th>\n",
       "      <th>Ticket Class</th>\n",
       "      <th>Ticket Type</th>\n",
       "      <th>Price</th>\n",
       "      <th>Departure Station</th>\n",
       "      <th>Arrival Destination</th>\n",
       "      <th>Date of Journey</th>\n",
       "      <th>Departure Time</th>\n",
       "      <th>Arrival Time</th>\n",
       "      <th>Actual Arrival Time</th>\n",
       "      <th>Journey Status</th>\n",
       "      <th>Reason for Delay</th>\n",
       "      <th>Refund Request</th>\n",
       "    </tr>\n",
       "  </thead>\n",
       "  <tbody>\n",
       "    <tr>\n",
       "      <th>0</th>\n",
       "      <td>da8a6ba8-b3dc-4677-b176</td>\n",
       "      <td>2023-12-08</td>\n",
       "      <td>12:41:11</td>\n",
       "      <td>Online</td>\n",
       "      <td>Contactless</td>\n",
       "      <td>Adult</td>\n",
       "      <td>Standard</td>\n",
       "      <td>Advance</td>\n",
       "      <td>43</td>\n",
       "      <td>London Paddington</td>\n",
       "      <td>Liverpool Lime Street</td>\n",
       "      <td>2024-01-01</td>\n",
       "      <td>11:00:00</td>\n",
       "      <td>13:30:00</td>\n",
       "      <td>13:30:00</td>\n",
       "      <td>On Time</td>\n",
       "      <td>NaN</td>\n",
       "      <td>No</td>\n",
       "    </tr>\n",
       "    <tr>\n",
       "      <th>1</th>\n",
       "      <td>b0cdd1b0-f214-4197-be53</td>\n",
       "      <td>2023-12-16</td>\n",
       "      <td>11:23:01</td>\n",
       "      <td>Station</td>\n",
       "      <td>Credit Card</td>\n",
       "      <td>Adult</td>\n",
       "      <td>Standard</td>\n",
       "      <td>Advance</td>\n",
       "      <td>23</td>\n",
       "      <td>London Kings Cross</td>\n",
       "      <td>York</td>\n",
       "      <td>2024-01-01</td>\n",
       "      <td>09:45:00</td>\n",
       "      <td>11:35:00</td>\n",
       "      <td>11:40:00</td>\n",
       "      <td>Delayed</td>\n",
       "      <td>Signal Failure</td>\n",
       "      <td>No</td>\n",
       "    </tr>\n",
       "    <tr>\n",
       "      <th>2</th>\n",
       "      <td>f3ba7a96-f713-40d9-9629</td>\n",
       "      <td>2023-12-19</td>\n",
       "      <td>19:51:27</td>\n",
       "      <td>Online</td>\n",
       "      <td>Credit Card</td>\n",
       "      <td>NaN</td>\n",
       "      <td>Standard</td>\n",
       "      <td>Advance</td>\n",
       "      <td>3</td>\n",
       "      <td>Liverpool Lime Street</td>\n",
       "      <td>Manchester Piccadilly</td>\n",
       "      <td>2024-01-02</td>\n",
       "      <td>18:15:00</td>\n",
       "      <td>18:45:00</td>\n",
       "      <td>18:45:00</td>\n",
       "      <td>On Time</td>\n",
       "      <td>NaN</td>\n",
       "      <td>No</td>\n",
       "    </tr>\n",
       "    <tr>\n",
       "      <th>3</th>\n",
       "      <td>b2471f11-4fe7-4c87-8ab4</td>\n",
       "      <td>2023-12-20</td>\n",
       "      <td>23:00:36</td>\n",
       "      <td>Station</td>\n",
       "      <td>Credit Card</td>\n",
       "      <td>NaN</td>\n",
       "      <td>Standard</td>\n",
       "      <td>Advance</td>\n",
       "      <td>13</td>\n",
       "      <td>London Paddington</td>\n",
       "      <td>Reading</td>\n",
       "      <td>2024-01-01</td>\n",
       "      <td>21:30:00</td>\n",
       "      <td>22:30:00</td>\n",
       "      <td>22:30:00</td>\n",
       "      <td>On Time</td>\n",
       "      <td>NaN</td>\n",
       "      <td>No</td>\n",
       "    </tr>\n",
       "    <tr>\n",
       "      <th>4</th>\n",
       "      <td>2be00b45-0762-485e-a7a3</td>\n",
       "      <td>2023-12-27</td>\n",
       "      <td>18:22:56</td>\n",
       "      <td>Online</td>\n",
       "      <td>Contactless</td>\n",
       "      <td>NaN</td>\n",
       "      <td>Standard</td>\n",
       "      <td>Advance</td>\n",
       "      <td>76</td>\n",
       "      <td>Liverpool Lime Street</td>\n",
       "      <td>London Euston</td>\n",
       "      <td>2024-01-01</td>\n",
       "      <td>16:45:00</td>\n",
       "      <td>19:00:00</td>\n",
       "      <td>19:00:00</td>\n",
       "      <td>On Time</td>\n",
       "      <td>NaN</td>\n",
       "      <td>No</td>\n",
       "    </tr>\n",
       "  </tbody>\n",
       "</table>\n",
       "</div>"
      ],
      "text/plain": [
       "            Transaction ID Date of Purchase Time of Purchase Purchase Type  \\\n",
       "0  da8a6ba8-b3dc-4677-b176       2023-12-08         12:41:11        Online   \n",
       "1  b0cdd1b0-f214-4197-be53       2023-12-16         11:23:01       Station   \n",
       "2  f3ba7a96-f713-40d9-9629       2023-12-19         19:51:27        Online   \n",
       "3  b2471f11-4fe7-4c87-8ab4       2023-12-20         23:00:36       Station   \n",
       "4  2be00b45-0762-485e-a7a3       2023-12-27         18:22:56        Online   \n",
       "\n",
       "  Payment Method Railcard Ticket Class Ticket Type  Price  \\\n",
       "0    Contactless    Adult     Standard     Advance     43   \n",
       "1    Credit Card    Adult     Standard     Advance     23   \n",
       "2    Credit Card      NaN     Standard     Advance      3   \n",
       "3    Credit Card      NaN     Standard     Advance     13   \n",
       "4    Contactless      NaN     Standard     Advance     76   \n",
       "\n",
       "       Departure Station    Arrival Destination Date of Journey  \\\n",
       "0      London Paddington  Liverpool Lime Street      2024-01-01   \n",
       "1     London Kings Cross                   York      2024-01-01   \n",
       "2  Liverpool Lime Street  Manchester Piccadilly      2024-01-02   \n",
       "3      London Paddington                Reading      2024-01-01   \n",
       "4  Liverpool Lime Street          London Euston      2024-01-01   \n",
       "\n",
       "  Departure Time Arrival Time Actual Arrival Time Journey Status  \\\n",
       "0       11:00:00     13:30:00            13:30:00        On Time   \n",
       "1       09:45:00     11:35:00            11:40:00        Delayed   \n",
       "2       18:15:00     18:45:00            18:45:00        On Time   \n",
       "3       21:30:00     22:30:00            22:30:00        On Time   \n",
       "4       16:45:00     19:00:00            19:00:00        On Time   \n",
       "\n",
       "  Reason for Delay Refund Request  \n",
       "0              NaN             No  \n",
       "1   Signal Failure             No  \n",
       "2              NaN             No  \n",
       "3              NaN             No  \n",
       "4              NaN             No  "
      ]
     },
     "execution_count": 140,
     "metadata": {},
     "output_type": "execute_result"
    }
   ],
   "source": [
    "data.head()"
   ]
  },
  {
   "cell_type": "code",
   "execution_count": 141,
   "id": "0f6da24e-2d59-4014-901c-f1fc77def7ef",
   "metadata": {},
   "outputs": [
    {
     "data": {
      "text/plain": [
       "(31653, 18)"
      ]
     },
     "execution_count": 141,
     "metadata": {},
     "output_type": "execute_result"
    }
   ],
   "source": [
    "data.shape"
   ]
  },
  {
   "cell_type": "code",
   "execution_count": 142,
   "id": "da73fbdb-4940-462c-bdc8-be2fa9f6d826",
   "metadata": {},
   "outputs": [],
   "source": [
    "data_copy = data.copy()"
   ]
  },
  {
   "cell_type": "code",
   "execution_count": 143,
   "id": "056df17f-bc01-45d9-a3ef-e3e7ddb81fa9",
   "metadata": {},
   "outputs": [
    {
     "data": {
      "text/html": [
       "<div>\n",
       "<style scoped>\n",
       "    .dataframe tbody tr th:only-of-type {\n",
       "        vertical-align: middle;\n",
       "    }\n",
       "\n",
       "    .dataframe tbody tr th {\n",
       "        vertical-align: top;\n",
       "    }\n",
       "\n",
       "    .dataframe thead th {\n",
       "        text-align: right;\n",
       "    }\n",
       "</style>\n",
       "<table border=\"1\" class=\"dataframe\">\n",
       "  <thead>\n",
       "    <tr style=\"text-align: right;\">\n",
       "      <th></th>\n",
       "      <th>Transaction ID</th>\n",
       "      <th>Date of Purchase</th>\n",
       "      <th>Time of Purchase</th>\n",
       "      <th>Purchase Type</th>\n",
       "      <th>Payment Method</th>\n",
       "      <th>Railcard</th>\n",
       "      <th>Ticket Class</th>\n",
       "      <th>Ticket Type</th>\n",
       "      <th>Price</th>\n",
       "      <th>Departure Station</th>\n",
       "      <th>Arrival Destination</th>\n",
       "      <th>Date of Journey</th>\n",
       "      <th>Departure Time</th>\n",
       "      <th>Arrival Time</th>\n",
       "      <th>Actual Arrival Time</th>\n",
       "      <th>Journey Status</th>\n",
       "      <th>Reason for Delay</th>\n",
       "      <th>Refund Request</th>\n",
       "    </tr>\n",
       "  </thead>\n",
       "  <tbody>\n",
       "    <tr>\n",
       "      <th>0</th>\n",
       "      <td>da8a6ba8-b3dc-4677-b176</td>\n",
       "      <td>2023-12-08</td>\n",
       "      <td>12:41:11</td>\n",
       "      <td>Online</td>\n",
       "      <td>Contactless</td>\n",
       "      <td>Adult</td>\n",
       "      <td>Standard</td>\n",
       "      <td>Advance</td>\n",
       "      <td>43</td>\n",
       "      <td>London Paddington</td>\n",
       "      <td>Liverpool Lime Street</td>\n",
       "      <td>2024-01-01</td>\n",
       "      <td>11:00:00</td>\n",
       "      <td>13:30:00</td>\n",
       "      <td>13:30:00</td>\n",
       "      <td>On Time</td>\n",
       "      <td>NaN</td>\n",
       "      <td>No</td>\n",
       "    </tr>\n",
       "    <tr>\n",
       "      <th>1</th>\n",
       "      <td>b0cdd1b0-f214-4197-be53</td>\n",
       "      <td>2023-12-16</td>\n",
       "      <td>11:23:01</td>\n",
       "      <td>Station</td>\n",
       "      <td>Credit Card</td>\n",
       "      <td>Adult</td>\n",
       "      <td>Standard</td>\n",
       "      <td>Advance</td>\n",
       "      <td>23</td>\n",
       "      <td>London Kings Cross</td>\n",
       "      <td>York</td>\n",
       "      <td>2024-01-01</td>\n",
       "      <td>09:45:00</td>\n",
       "      <td>11:35:00</td>\n",
       "      <td>11:40:00</td>\n",
       "      <td>Delayed</td>\n",
       "      <td>Signal Failure</td>\n",
       "      <td>No</td>\n",
       "    </tr>\n",
       "    <tr>\n",
       "      <th>2</th>\n",
       "      <td>f3ba7a96-f713-40d9-9629</td>\n",
       "      <td>2023-12-19</td>\n",
       "      <td>19:51:27</td>\n",
       "      <td>Online</td>\n",
       "      <td>Credit Card</td>\n",
       "      <td>NaN</td>\n",
       "      <td>Standard</td>\n",
       "      <td>Advance</td>\n",
       "      <td>3</td>\n",
       "      <td>Liverpool Lime Street</td>\n",
       "      <td>Manchester Piccadilly</td>\n",
       "      <td>2024-01-02</td>\n",
       "      <td>18:15:00</td>\n",
       "      <td>18:45:00</td>\n",
       "      <td>18:45:00</td>\n",
       "      <td>On Time</td>\n",
       "      <td>NaN</td>\n",
       "      <td>No</td>\n",
       "    </tr>\n",
       "    <tr>\n",
       "      <th>3</th>\n",
       "      <td>b2471f11-4fe7-4c87-8ab4</td>\n",
       "      <td>2023-12-20</td>\n",
       "      <td>23:00:36</td>\n",
       "      <td>Station</td>\n",
       "      <td>Credit Card</td>\n",
       "      <td>NaN</td>\n",
       "      <td>Standard</td>\n",
       "      <td>Advance</td>\n",
       "      <td>13</td>\n",
       "      <td>London Paddington</td>\n",
       "      <td>Reading</td>\n",
       "      <td>2024-01-01</td>\n",
       "      <td>21:30:00</td>\n",
       "      <td>22:30:00</td>\n",
       "      <td>22:30:00</td>\n",
       "      <td>On Time</td>\n",
       "      <td>NaN</td>\n",
       "      <td>No</td>\n",
       "    </tr>\n",
       "    <tr>\n",
       "      <th>4</th>\n",
       "      <td>2be00b45-0762-485e-a7a3</td>\n",
       "      <td>2023-12-27</td>\n",
       "      <td>18:22:56</td>\n",
       "      <td>Online</td>\n",
       "      <td>Contactless</td>\n",
       "      <td>NaN</td>\n",
       "      <td>Standard</td>\n",
       "      <td>Advance</td>\n",
       "      <td>76</td>\n",
       "      <td>Liverpool Lime Street</td>\n",
       "      <td>London Euston</td>\n",
       "      <td>2024-01-01</td>\n",
       "      <td>16:45:00</td>\n",
       "      <td>19:00:00</td>\n",
       "      <td>19:00:00</td>\n",
       "      <td>On Time</td>\n",
       "      <td>NaN</td>\n",
       "      <td>No</td>\n",
       "    </tr>\n",
       "  </tbody>\n",
       "</table>\n",
       "</div>"
      ],
      "text/plain": [
       "            Transaction ID Date of Purchase Time of Purchase Purchase Type  \\\n",
       "0  da8a6ba8-b3dc-4677-b176       2023-12-08         12:41:11        Online   \n",
       "1  b0cdd1b0-f214-4197-be53       2023-12-16         11:23:01       Station   \n",
       "2  f3ba7a96-f713-40d9-9629       2023-12-19         19:51:27        Online   \n",
       "3  b2471f11-4fe7-4c87-8ab4       2023-12-20         23:00:36       Station   \n",
       "4  2be00b45-0762-485e-a7a3       2023-12-27         18:22:56        Online   \n",
       "\n",
       "  Payment Method Railcard Ticket Class Ticket Type  Price  \\\n",
       "0    Contactless    Adult     Standard     Advance     43   \n",
       "1    Credit Card    Adult     Standard     Advance     23   \n",
       "2    Credit Card      NaN     Standard     Advance      3   \n",
       "3    Credit Card      NaN     Standard     Advance     13   \n",
       "4    Contactless      NaN     Standard     Advance     76   \n",
       "\n",
       "       Departure Station    Arrival Destination Date of Journey  \\\n",
       "0      London Paddington  Liverpool Lime Street      2024-01-01   \n",
       "1     London Kings Cross                   York      2024-01-01   \n",
       "2  Liverpool Lime Street  Manchester Piccadilly      2024-01-02   \n",
       "3      London Paddington                Reading      2024-01-01   \n",
       "4  Liverpool Lime Street          London Euston      2024-01-01   \n",
       "\n",
       "  Departure Time Arrival Time Actual Arrival Time Journey Status  \\\n",
       "0       11:00:00     13:30:00            13:30:00        On Time   \n",
       "1       09:45:00     11:35:00            11:40:00        Delayed   \n",
       "2       18:15:00     18:45:00            18:45:00        On Time   \n",
       "3       21:30:00     22:30:00            22:30:00        On Time   \n",
       "4       16:45:00     19:00:00            19:00:00        On Time   \n",
       "\n",
       "  Reason for Delay Refund Request  \n",
       "0              NaN             No  \n",
       "1   Signal Failure             No  \n",
       "2              NaN             No  \n",
       "3              NaN             No  \n",
       "4              NaN             No  "
      ]
     },
     "execution_count": 143,
     "metadata": {},
     "output_type": "execute_result"
    }
   ],
   "source": [
    "data_copy.head(5)"
   ]
  },
  {
   "cell_type": "code",
   "execution_count": 144,
   "id": "6ee3401c-13d7-457a-a44a-a99d37fa9efb",
   "metadata": {},
   "outputs": [
    {
     "data": {
      "text/plain": [
       "Transaction ID         object\n",
       "Date of Purchase       object\n",
       "Time of Purchase       object\n",
       "Purchase Type          object\n",
       "Payment Method         object\n",
       "Railcard               object\n",
       "Ticket Class           object\n",
       "Ticket Type            object\n",
       "Price                   int64\n",
       "Departure Station      object\n",
       "Arrival Destination    object\n",
       "Date of Journey        object\n",
       "Departure Time         object\n",
       "Arrival Time           object\n",
       "Actual Arrival Time    object\n",
       "Journey Status         object\n",
       "Reason for Delay       object\n",
       "Refund Request         object\n",
       "dtype: object"
      ]
     },
     "execution_count": 144,
     "metadata": {},
     "output_type": "execute_result"
    }
   ],
   "source": [
    "data_copy.dtypes"
   ]
  },
  {
   "cell_type": "code",
   "execution_count": 145,
   "id": "a160ba0e-ca3f-4eff-b54d-ab0e930864f7",
   "metadata": {},
   "outputs": [
    {
     "data": {
      "text/plain": [
       "Transaction ID             0\n",
       "Date of Purchase           0\n",
       "Time of Purchase           0\n",
       "Purchase Type              0\n",
       "Payment Method             0\n",
       "Railcard               20918\n",
       "Ticket Class               0\n",
       "Ticket Type                0\n",
       "Price                      0\n",
       "Departure Station          0\n",
       "Arrival Destination        0\n",
       "Date of Journey            0\n",
       "Departure Time             0\n",
       "Arrival Time               0\n",
       "Actual Arrival Time     1880\n",
       "Journey Status             0\n",
       "Reason for Delay       27481\n",
       "Refund Request             0\n",
       "dtype: int64"
      ]
     },
     "execution_count": 145,
     "metadata": {},
     "output_type": "execute_result"
    }
   ],
   "source": [
    "data_copy.isnull().sum()"
   ]
  },
  {
   "cell_type": "code",
   "execution_count": 146,
   "id": "b5e6f362-82d0-4925-b829-20eaf419332e",
   "metadata": {},
   "outputs": [],
   "source": [
    "data_copy.columns = data_copy.columns.str.replace(' ', '_')"
   ]
  },
  {
   "cell_type": "code",
   "execution_count": null,
   "id": "4b109308-c308-44b1-9052-88fb096fa328",
   "metadata": {},
   "outputs": [],
   "source": []
  },
  {
   "cell_type": "code",
   "execution_count": 147,
   "id": "7785ea1b-8d45-4c69-8f5a-0a9f4a9185dd",
   "metadata": {},
   "outputs": [],
   "source": [
    "data_copy['Date_of_Purchase'] = pd.to_datetime(data_copy['Date_of_Purchase'])"
   ]
  },
  {
   "cell_type": "code",
   "execution_count": 148,
   "id": "30abc063-bc24-4fea-8501-03e3c1ef2bb4",
   "metadata": {},
   "outputs": [],
   "source": [
    "data_copy['Time_of_Purchase'] = pd.to_datetime(data_copy['Time_of_Purchase'], format = '%H:%M:%S').dt.time"
   ]
  },
  {
   "cell_type": "code",
   "execution_count": 149,
   "id": "cba0c9a1-cf7f-4d9c-8fc4-82b54d3ee476",
   "metadata": {},
   "outputs": [
    {
     "data": {
      "text/plain": [
       "array(['Online', 'Station'], dtype=object)"
      ]
     },
     "execution_count": 149,
     "metadata": {},
     "output_type": "execute_result"
    }
   ],
   "source": [
    "data_copy['Purchase_Type'].unique()"
   ]
  },
  {
   "cell_type": "code",
   "execution_count": 150,
   "id": "bc640600-26e2-45c6-b087-309c1275dff9",
   "metadata": {},
   "outputs": [
    {
     "data": {
      "text/plain": [
       "array(['Contactless', 'Credit Card', 'Debit Card'], dtype=object)"
      ]
     },
     "execution_count": 150,
     "metadata": {},
     "output_type": "execute_result"
    }
   ],
   "source": [
    "data_copy['Payment_Method'].unique()"
   ]
  },
  {
   "cell_type": "code",
   "execution_count": 151,
   "id": "3da8398d-8d9b-47bf-b7f9-14ab8be3e6fe",
   "metadata": {},
   "outputs": [
    {
     "data": {
      "text/plain": [
       "array(['Adult', nan, 'Disabled', 'Senior'], dtype=object)"
      ]
     },
     "execution_count": 151,
     "metadata": {},
     "output_type": "execute_result"
    }
   ],
   "source": [
    "data_copy['Railcard'].unique()"
   ]
  },
  {
   "cell_type": "code",
   "execution_count": 152,
   "id": "2bd7b02c-013d-484c-8eb7-e86e791250e2",
   "metadata": {},
   "outputs": [
    {
     "data": {
      "text/plain": [
       "0    Adult\n",
       "Name: Railcard, dtype: object"
      ]
     },
     "execution_count": 152,
     "metadata": {},
     "output_type": "execute_result"
    }
   ],
   "source": [
    "data_copy['Railcard'].mode()"
   ]
  },
  {
   "cell_type": "code",
   "execution_count": 153,
   "id": "ab8bed8d-e905-4438-a14e-13beaf75c0dc",
   "metadata": {},
   "outputs": [],
   "source": [
    "data_copy['Railcard'] = data_copy['Railcard'].fillna('Adult')"
   ]
  },
  {
   "cell_type": "code",
   "execution_count": 154,
   "id": "5591fc0b-e48b-4caf-b946-f6130948d98c",
   "metadata": {},
   "outputs": [
    {
     "data": {
      "text/plain": [
       "array(['Adult', 'Disabled', 'Senior'], dtype=object)"
      ]
     },
     "execution_count": 154,
     "metadata": {},
     "output_type": "execute_result"
    }
   ],
   "source": [
    "data_copy['Railcard'].unique()"
   ]
  },
  {
   "cell_type": "code",
   "execution_count": 155,
   "id": "233d4919-dc41-41cc-8f7a-8c4cd829ea6e",
   "metadata": {},
   "outputs": [
    {
     "data": {
      "text/plain": [
       "array(['Standard', 'First Class'], dtype=object)"
      ]
     },
     "execution_count": 155,
     "metadata": {},
     "output_type": "execute_result"
    }
   ],
   "source": [
    "data_copy['Ticket_Class'].unique()"
   ]
  },
  {
   "cell_type": "code",
   "execution_count": 156,
   "id": "1d5111d8-d138-4eeb-a903-5797aef116c3",
   "metadata": {},
   "outputs": [
    {
     "data": {
      "text/plain": [
       "array(['Advance', 'Off-Peak', 'Anytime'], dtype=object)"
      ]
     },
     "execution_count": 156,
     "metadata": {},
     "output_type": "execute_result"
    }
   ],
   "source": [
    "data_copy['Ticket_Type'].unique()"
   ]
  },
  {
   "cell_type": "code",
   "execution_count": 157,
   "id": "255d502e-d40d-4a97-a941-b74ef530c2fb",
   "metadata": {},
   "outputs": [
    {
     "data": {
      "text/plain": [
       "array([ 43,  23,   3,  13,  76,  35,   2,  37,   8,  15,   7,  86,  34,\n",
       "        57,   5,  10,   4,  12,  33,  70,  16, 134,  29,  47,   6, 151,\n",
       "        25,  21,  53,  19,   9,  20,  54,  17,  11,  84,  41, 200,  27,\n",
       "        14, 107, 143,  22,  18, 235,  78,  50,  32, 108,  72, 106,  65,\n",
       "        24,  52,  67,  90,  31,  48,  39,  59,  44,  95, 144, 114, 118,\n",
       "       119,  38, 111,  56, 128, 113,  80, 267,  63,  97,  26, 101,  36,\n",
       "       216,  93,  30,  82,  88,  71,  55, 126,  73, 110,  89,  51,  66,\n",
       "       168,  69, 162,   1, 135,  28,  45, 129,  42,  49, 176, 180, 157,\n",
       "       121,  77, 211, 104, 112,  96, 171, 146, 154,  64, 116, 158, 242,\n",
       "       117, 178, 203, 238,  74, 109,  94, 102], dtype=int64)"
      ]
     },
     "execution_count": 157,
     "metadata": {},
     "output_type": "execute_result"
    }
   ],
   "source": [
    "data_copy['Price'] = pd.to_numeric(data_copy['Price'], errors='coerce')\n",
    "data_copy['Price'].unique()"
   ]
  },
  {
   "cell_type": "code",
   "execution_count": 158,
   "id": "c6044d02-6bad-448d-b0ca-4a4ad9b91acf",
   "metadata": {},
   "outputs": [
    {
     "data": {
      "text/plain": [
       "array(['London Paddington', 'London Kings Cross', 'Liverpool Lime Street',\n",
       "       'London Euston', 'York', 'Manchester Piccadilly',\n",
       "       'Birmingham New Street', 'London St Pancras', 'Oxford', 'Reading',\n",
       "       'Edinburgh Waverley', 'Bristol Temple Meads'], dtype=object)"
      ]
     },
     "execution_count": 158,
     "metadata": {},
     "output_type": "execute_result"
    }
   ],
   "source": [
    "data_copy['Departure_Station'].unique()"
   ]
  },
  {
   "cell_type": "code",
   "execution_count": 159,
   "id": "b51abf6e-8a33-4756-9d1c-e640d0189b5f",
   "metadata": {},
   "outputs": [
    {
     "data": {
      "text/plain": [
       "Index(['Transaction_ID', 'Date_of_Purchase', 'Time_of_Purchase',\n",
       "       'Purchase_Type', 'Payment_Method', 'Railcard', 'Ticket_Class',\n",
       "       'Ticket_Type', 'Price', 'Departure_Station', 'Arrival_Destination',\n",
       "       'Date_of_Journey', 'Departure_Time', 'Arrival_Time',\n",
       "       'Actual_Arrival_Time', 'Journey_Status', 'Reason_for_Delay',\n",
       "       'Refund_Request'],\n",
       "      dtype='object')"
      ]
     },
     "execution_count": 159,
     "metadata": {},
     "output_type": "execute_result"
    }
   ],
   "source": [
    "data_copy.columns"
   ]
  },
  {
   "cell_type": "code",
   "execution_count": 160,
   "id": "dc198e58-26aa-428d-9cfb-cb832c8a0b4c",
   "metadata": {},
   "outputs": [
    {
     "data": {
      "text/plain": [
       "array(['Liverpool Lime Street', 'York', 'Manchester Piccadilly',\n",
       "       'Reading', 'London Euston', 'Oxford', 'Durham',\n",
       "       'London St Pancras', 'Birmingham New Street', 'London Paddington',\n",
       "       'Bristol Temple Meads', 'Tamworth', 'London Waterloo', 'Sheffield',\n",
       "       'Wolverhampton', 'Leeds', 'Stafford', 'Doncaster', 'Swindon',\n",
       "       'Nottingham', 'Peterborough', 'Edinburgh', 'Crewe',\n",
       "       'London Kings Cross', 'Leicester', 'Nuneaton', 'Didcot',\n",
       "       'Edinburgh Waverley', 'Coventry', 'Wakefield', 'Cardiff Central',\n",
       "       'Warrington'], dtype=object)"
      ]
     },
     "execution_count": 160,
     "metadata": {},
     "output_type": "execute_result"
    }
   ],
   "source": [
    "data_copy['Arrival_Destination'].unique()"
   ]
  },
  {
   "cell_type": "code",
   "execution_count": 161,
   "id": "f848e2b5-7d43-46ab-a50e-795eeda5f76f",
   "metadata": {},
   "outputs": [],
   "source": [
    "data_copy['Date_of_Journey'] = pd.to_datetime(data_copy['Date_of_Journey'])"
   ]
  },
  {
   "cell_type": "code",
   "execution_count": 162,
   "id": "e5db16d7-a873-4ce7-918d-3a6135593a85",
   "metadata": {},
   "outputs": [],
   "source": [
    "data_copy['Departure_Time']= pd.to_datetime(data_copy['Departure_Time'], format= '%H:%M:%S').dt.time"
   ]
  },
  {
   "cell_type": "code",
   "execution_count": 163,
   "id": "92e5f048-e671-4749-81f7-56db6359f3b8",
   "metadata": {},
   "outputs": [],
   "source": [
    "data_copy['Arrival_Time']= pd.to_datetime(data_copy['Arrival_Time'], format= '%H:%M:%S').dt.time"
   ]
  },
  {
   "cell_type": "code",
   "execution_count": 164,
   "id": "7e657f9a-b58a-4cd2-af04-796e7c911e4e",
   "metadata": {},
   "outputs": [],
   "source": [
    "avg_arrival_time = pd.to_datetime(data_copy['Actual_Arrival_Time'],format='%H:%M:%S').mean().time().strftime('%H:%M:%S')"
   ]
  },
  {
   "cell_type": "code",
   "execution_count": 165,
   "id": "93ce04de-7931-4f6d-a94c-281ac737b11f",
   "metadata": {},
   "outputs": [],
   "source": [
    "data_copy['Actual_Arrival_Time'] = data_copy['Actual_Arrival_Time'].fillna(avg_arrival_time)"
   ]
  },
  {
   "cell_type": "code",
   "execution_count": 166,
   "id": "1b1b85d2-88f9-4754-9957-bd2bb017b0ed",
   "metadata": {},
   "outputs": [
    {
     "data": {
      "text/plain": [
       "0"
      ]
     },
     "execution_count": 166,
     "metadata": {},
     "output_type": "execute_result"
    }
   ],
   "source": [
    "data_copy['Actual_Arrival_Time'].isnull().sum()"
   ]
  },
  {
   "cell_type": "code",
   "execution_count": 167,
   "id": "ed3b34f8-fd7b-4f26-a60a-547b96891d48",
   "metadata": {},
   "outputs": [
    {
     "data": {
      "text/plain": [
       "array(['On Time', 'Delayed', 'Cancelled'], dtype=object)"
      ]
     },
     "execution_count": 167,
     "metadata": {},
     "output_type": "execute_result"
    }
   ],
   "source": [
    "data_copy['Journey_Status'].unique()"
   ]
  },
  {
   "cell_type": "code",
   "execution_count": 168,
   "id": "898b9862-4481-4827-a3e8-f01a2de390b8",
   "metadata": {},
   "outputs": [
    {
     "data": {
      "text/plain": [
       "array([nan, 'Signal Failure', 'Technical Issue', 'Weather Conditions',\n",
       "       'Weather', 'Staffing', 'Staff Shortage', 'Signal failure',\n",
       "       'Traffic'], dtype=object)"
      ]
     },
     "execution_count": 168,
     "metadata": {},
     "output_type": "execute_result"
    }
   ],
   "source": [
    "data_copy['Reason_for_Delay'] = data_copy['Reason_for_Delay'].str.strip()\n",
    "data_copy['Reason_for_Delay'].unique()"
   ]
  },
  {
   "cell_type": "code",
   "execution_count": 169,
   "id": "35e37b12-7f33-4bae-b1d8-04b1f94d7ee1",
   "metadata": {},
   "outputs": [
    {
     "data": {
      "text/plain": [
       "0    Weather\n",
       "Name: Reason_for_Delay, dtype: object"
      ]
     },
     "execution_count": 169,
     "metadata": {},
     "output_type": "execute_result"
    }
   ],
   "source": [
    "data_copy['Reason_for_Delay'].mode()"
   ]
  },
  {
   "cell_type": "code",
   "execution_count": 170,
   "id": "b2e5da1a-edfa-4e0e-a3c8-8f8bc5925546",
   "metadata": {},
   "outputs": [],
   "source": [
    "data_copy['Reason_for_Delay'] = data_copy['Reason_for_Delay'].fillna('Weather')"
   ]
  },
  {
   "cell_type": "code",
   "execution_count": 171,
   "id": "bd5403d9-f67b-4548-a1dd-3b65472fb88f",
   "metadata": {},
   "outputs": [],
   "source": [
    "def assign_reason (reason):\n",
    "    if 'weather' in reason.lower():\n",
    "        return 'Weather'\n",
    "    elif 'signal' in reason.lower():\n",
    "        return 'Signal Failure'\n",
    "    elif 'staff' in reason.lower():\n",
    "        return 'Staffing'\n",
    "    else:\n",
    "        return reason"
   ]
  },
  {
   "cell_type": "code",
   "execution_count": 172,
   "id": "0c73a1c1-f997-4fb9-9a72-611c4faf2b93",
   "metadata": {},
   "outputs": [],
   "source": [
    "data_copy['Reason_for_Delay'] = data_copy['Reason_for_Delay'].apply(assign_reason)"
   ]
  },
  {
   "cell_type": "code",
   "execution_count": 173,
   "id": "4baba3ee-4ba9-4196-abb9-4d63da33a86b",
   "metadata": {},
   "outputs": [
    {
     "data": {
      "text/plain": [
       "array(['No', 'Yes'], dtype=object)"
      ]
     },
     "execution_count": 173,
     "metadata": {},
     "output_type": "execute_result"
    }
   ],
   "source": [
    "data_copy['Refund_Request'].unique()"
   ]
  },
  {
   "cell_type": "code",
   "execution_count": 174,
   "id": "b6cc891e-cd0c-496b-9770-9a68c82e8f6a",
   "metadata": {},
   "outputs": [
    {
     "data": {
      "text/plain": [
       "Transaction_ID         0\n",
       "Date_of_Purchase       0\n",
       "Time_of_Purchase       0\n",
       "Purchase_Type          0\n",
       "Payment_Method         0\n",
       "Railcard               0\n",
       "Ticket_Class           0\n",
       "Ticket_Type            0\n",
       "Price                  0\n",
       "Departure_Station      0\n",
       "Arrival_Destination    0\n",
       "Date_of_Journey        0\n",
       "Departure_Time         0\n",
       "Arrival_Time           0\n",
       "Actual_Arrival_Time    0\n",
       "Journey_Status         0\n",
       "Reason_for_Delay       0\n",
       "Refund_Request         0\n",
       "dtype: int64"
      ]
     },
     "execution_count": 174,
     "metadata": {},
     "output_type": "execute_result"
    }
   ],
   "source": [
    "data_copy.isnull().sum()"
   ]
  },
  {
   "cell_type": "code",
   "execution_count": 175,
   "id": "21bda0a5-f8f7-4699-b5fa-870901dc74f0",
   "metadata": {},
   "outputs": [
    {
     "data": {
      "text/plain": [
       "Transaction_ID                 object\n",
       "Date_of_Purchase       datetime64[ns]\n",
       "Time_of_Purchase               object\n",
       "Purchase_Type                  object\n",
       "Payment_Method                 object\n",
       "Railcard                       object\n",
       "Ticket_Class                   object\n",
       "Ticket_Type                    object\n",
       "Price                           int64\n",
       "Departure_Station              object\n",
       "Arrival_Destination            object\n",
       "Date_of_Journey        datetime64[ns]\n",
       "Departure_Time                 object\n",
       "Arrival_Time                   object\n",
       "Actual_Arrival_Time            object\n",
       "Journey_Status                 object\n",
       "Reason_for_Delay               object\n",
       "Refund_Request                 object\n",
       "dtype: object"
      ]
     },
     "execution_count": 175,
     "metadata": {},
     "output_type": "execute_result"
    }
   ],
   "source": [
    "data_copy.dtypes"
   ]
  },
  {
   "cell_type": "code",
   "execution_count": 176,
   "id": "21e55eba-5ffe-406b-b759-8e012e352de9",
   "metadata": {},
   "outputs": [
    {
     "data": {
      "text/plain": [
       "(31653, 18)"
      ]
     },
     "execution_count": 176,
     "metadata": {},
     "output_type": "execute_result"
    }
   ],
   "source": [
    "data_copy.shape"
   ]
  },
  {
   "cell_type": "code",
   "execution_count": 177,
   "id": "78b5770d-503f-41c3-80c8-a02485c7fc0a",
   "metadata": {},
   "outputs": [],
   "source": [
    "data_copy.to_excel(r'C:\\Users\\ADMIN\\Desktop\\projects\\UK+Train+Rides\\railway_cleaned.xlsx', index= False)"
   ]
  }
 ],
 "metadata": {
  "kernelspec": {
   "display_name": "Python 3 (ipykernel)",
   "language": "python",
   "name": "python3"
  },
  "language_info": {
   "codemirror_mode": {
    "name": "ipython",
    "version": 3
   },
   "file_extension": ".py",
   "mimetype": "text/x-python",
   "name": "python",
   "nbconvert_exporter": "python",
   "pygments_lexer": "ipython3",
   "version": "3.12.3"
  }
 },
 "nbformat": 4,
 "nbformat_minor": 5
}
