{
 "cells": [
  {
   "cell_type": "code",
   "execution_count": 67,
   "id": "58ab539e-75d8-43f1-b6e1-d053641bae28",
   "metadata": {},
   "outputs": [],
   "source": [
    "import pandas as pd"
   ]
  },
  {
   "cell_type": "code",
   "execution_count": 68,
   "id": "f4aaeceb-719a-4737-8948-434cb7615935",
   "metadata": {},
   "outputs": [
    {
     "data": {
      "text/html": [
       "<div>\n",
       "<style scoped>\n",
       "    .dataframe tbody tr th:only-of-type {\n",
       "        vertical-align: middle;\n",
       "    }\n",
       "\n",
       "    .dataframe tbody tr th {\n",
       "        vertical-align: top;\n",
       "    }\n",
       "\n",
       "    .dataframe thead th {\n",
       "        text-align: right;\n",
       "    }\n",
       "</style>\n",
       "<table border=\"1\" class=\"dataframe\">\n",
       "  <thead>\n",
       "    <tr style=\"text-align: right;\">\n",
       "      <th></th>\n",
       "      <th>set_id</th>\n",
       "      <th>name</th>\n",
       "      <th>year</th>\n",
       "      <th>theme</th>\n",
       "      <th>subtheme</th>\n",
       "      <th>themeGroup</th>\n",
       "      <th>category</th>\n",
       "      <th>pieces</th>\n",
       "      <th>minifigs</th>\n",
       "      <th>agerange_min</th>\n",
       "      <th>US_retailPrice</th>\n",
       "      <th>bricksetURL</th>\n",
       "      <th>thumbnailURL</th>\n",
       "      <th>imageURL</th>\n",
       "    </tr>\n",
       "  </thead>\n",
       "  <tbody>\n",
       "    <tr>\n",
       "      <th>0</th>\n",
       "      <td>1-8</td>\n",
       "      <td>Small house set</td>\n",
       "      <td>1970</td>\n",
       "      <td>Minitalia</td>\n",
       "      <td>NaN</td>\n",
       "      <td>Vintage</td>\n",
       "      <td>Normal</td>\n",
       "      <td>67.0</td>\n",
       "      <td>NaN</td>\n",
       "      <td>NaN</td>\n",
       "      <td>NaN</td>\n",
       "      <td>https://brickset.com/sets/1-8</td>\n",
       "      <td>https://images.brickset.com/sets/small/1-8.jpg</td>\n",
       "      <td>https://images.brickset.com/sets/images/1-8.jpg</td>\n",
       "    </tr>\n",
       "    <tr>\n",
       "      <th>1</th>\n",
       "      <td>2-8</td>\n",
       "      <td>Medium house set</td>\n",
       "      <td>1970</td>\n",
       "      <td>Minitalia</td>\n",
       "      <td>NaN</td>\n",
       "      <td>Vintage</td>\n",
       "      <td>Normal</td>\n",
       "      <td>109.0</td>\n",
       "      <td>NaN</td>\n",
       "      <td>NaN</td>\n",
       "      <td>NaN</td>\n",
       "      <td>https://brickset.com/sets/2-8</td>\n",
       "      <td>https://images.brickset.com/sets/small/2-8.jpg</td>\n",
       "      <td>https://images.brickset.com/sets/images/2-8.jpg</td>\n",
       "    </tr>\n",
       "    <tr>\n",
       "      <th>2</th>\n",
       "      <td>3-6</td>\n",
       "      <td>Medium house set</td>\n",
       "      <td>1970</td>\n",
       "      <td>Minitalia</td>\n",
       "      <td>NaN</td>\n",
       "      <td>Vintage</td>\n",
       "      <td>Normal</td>\n",
       "      <td>158.0</td>\n",
       "      <td>NaN</td>\n",
       "      <td>NaN</td>\n",
       "      <td>NaN</td>\n",
       "      <td>https://brickset.com/sets/3-6</td>\n",
       "      <td>https://images.brickset.com/sets/small/3-6.jpg</td>\n",
       "      <td>https://images.brickset.com/sets/images/3-6.jpg</td>\n",
       "    </tr>\n",
       "    <tr>\n",
       "      <th>3</th>\n",
       "      <td>4-4</td>\n",
       "      <td>Large house set</td>\n",
       "      <td>1970</td>\n",
       "      <td>Minitalia</td>\n",
       "      <td>NaN</td>\n",
       "      <td>Vintage</td>\n",
       "      <td>Normal</td>\n",
       "      <td>233.0</td>\n",
       "      <td>NaN</td>\n",
       "      <td>NaN</td>\n",
       "      <td>NaN</td>\n",
       "      <td>https://brickset.com/sets/4-4</td>\n",
       "      <td>https://images.brickset.com/sets/small/4-4.jpg</td>\n",
       "      <td>https://images.brickset.com/sets/images/4-4.jpg</td>\n",
       "    </tr>\n",
       "    <tr>\n",
       "      <th>4</th>\n",
       "      <td>4-6</td>\n",
       "      <td>Mini House and Vehicles</td>\n",
       "      <td>1970</td>\n",
       "      <td>Samsonite</td>\n",
       "      <td>Model Maker</td>\n",
       "      <td>Vintage</td>\n",
       "      <td>Normal</td>\n",
       "      <td>NaN</td>\n",
       "      <td>NaN</td>\n",
       "      <td>NaN</td>\n",
       "      <td>NaN</td>\n",
       "      <td>https://brickset.com/sets/4-6</td>\n",
       "      <td>NaN</td>\n",
       "      <td>NaN</td>\n",
       "    </tr>\n",
       "  </tbody>\n",
       "</table>\n",
       "</div>"
      ],
      "text/plain": [
       "  set_id                     name  year      theme     subtheme themeGroup  \\\n",
       "0    1-8          Small house set  1970  Minitalia          NaN    Vintage   \n",
       "1    2-8         Medium house set  1970  Minitalia          NaN    Vintage   \n",
       "2    3-6         Medium house set  1970  Minitalia          NaN    Vintage   \n",
       "3    4-4          Large house set  1970  Minitalia          NaN    Vintage   \n",
       "4    4-6  Mini House and Vehicles  1970  Samsonite  Model Maker    Vintage   \n",
       "\n",
       "  category  pieces  minifigs  agerange_min  US_retailPrice  \\\n",
       "0   Normal    67.0       NaN           NaN             NaN   \n",
       "1   Normal   109.0       NaN           NaN             NaN   \n",
       "2   Normal   158.0       NaN           NaN             NaN   \n",
       "3   Normal   233.0       NaN           NaN             NaN   \n",
       "4   Normal     NaN       NaN           NaN             NaN   \n",
       "\n",
       "                     bricksetURL  \\\n",
       "0  https://brickset.com/sets/1-8   \n",
       "1  https://brickset.com/sets/2-8   \n",
       "2  https://brickset.com/sets/3-6   \n",
       "3  https://brickset.com/sets/4-4   \n",
       "4  https://brickset.com/sets/4-6   \n",
       "\n",
       "                                     thumbnailURL  \\\n",
       "0  https://images.brickset.com/sets/small/1-8.jpg   \n",
       "1  https://images.brickset.com/sets/small/2-8.jpg   \n",
       "2  https://images.brickset.com/sets/small/3-6.jpg   \n",
       "3  https://images.brickset.com/sets/small/4-4.jpg   \n",
       "4                                             NaN   \n",
       "\n",
       "                                          imageURL  \n",
       "0  https://images.brickset.com/sets/images/1-8.jpg  \n",
       "1  https://images.brickset.com/sets/images/2-8.jpg  \n",
       "2  https://images.brickset.com/sets/images/3-6.jpg  \n",
       "3  https://images.brickset.com/sets/images/4-4.jpg  \n",
       "4                                              NaN  "
      ]
     },
     "execution_count": 68,
     "metadata": {},
     "output_type": "execute_result"
    }
   ],
   "source": [
    "data = pd.read_csv('lego_sets.csv')\n",
    "data.head()"
   ]
  },
  {
   "cell_type": "markdown",
   "id": "4be51374",
   "metadata": {},
   "source": [
    "### Removing whitespaces"
   ]
  },
  {
   "cell_type": "code",
   "execution_count": 69,
   "id": "4b3cb018-8e7a-42c8-92cd-1d24541f0ee0",
   "metadata": {},
   "outputs": [],
   "source": [
    "data_copy = data.copy()\n",
    "\n",
    "data_copy.columns = data_copy.columns.str.strip()"
   ]
  },
  {
   "cell_type": "markdown",
   "id": "0d5e2adb",
   "metadata": {},
   "source": [
    "### Handling missing values"
   ]
  },
  {
   "cell_type": "code",
   "execution_count": 70,
   "id": "c21d8ecc-61be-4633-9dd9-f42e4ed81ea8",
   "metadata": {},
   "outputs": [
    {
     "data": {
      "text/plain": [
       "set_id                0\n",
       "name                  0\n",
       "year                  0\n",
       "theme                 0\n",
       "subtheme           3556\n",
       "themeGroup            2\n",
       "category              0\n",
       "pieces             3924\n",
       "minifigs          10058\n",
       "agerange_min      11670\n",
       "US_retailPrice    11475\n",
       "bricksetURL           0\n",
       "thumbnailURL       1006\n",
       "imageURL           1006\n",
       "dtype: int64"
      ]
     },
     "execution_count": 70,
     "metadata": {},
     "output_type": "execute_result"
    }
   ],
   "source": [
    "data.isnull().sum()"
   ]
  },
  {
   "cell_type": "code",
   "execution_count": 71,
   "id": "48e1e2fa-6d1d-4f19-9486-46af4fd17617",
   "metadata": {},
   "outputs": [],
   "source": [
    "data_copy['themeGroup'] = data_copy['themeGroup'].fillna('NA')"
   ]
  },
  {
   "cell_type": "code",
   "execution_count": 72,
   "id": "a81d0369-6ece-4fda-ac72-cd999a93d90e",
   "metadata": {},
   "outputs": [
    {
     "data": {
      "text/plain": [
       "set_id             object\n",
       "name               object\n",
       "year                int64\n",
       "theme              object\n",
       "subtheme           object\n",
       "themeGroup         object\n",
       "category           object\n",
       "pieces            float64\n",
       "minifigs          float64\n",
       "agerange_min      float64\n",
       "US_retailPrice    float64\n",
       "bricksetURL        object\n",
       "thumbnailURL       object\n",
       "imageURL           object\n",
       "dtype: object"
      ]
     },
     "execution_count": 72,
     "metadata": {},
     "output_type": "execute_result"
    }
   ],
   "source": [
    "data_copy.dtypes"
   ]
  },
  {
   "cell_type": "code",
   "execution_count": 73,
   "id": "b4251334-dedd-4a70-868b-4ff0247ee9d2",
   "metadata": {},
   "outputs": [],
   "source": [
    "data_copy['pieces'] = data_copy['pieces'].fillna(data_copy['pieces'].mean())"
   ]
  },
  {
   "cell_type": "code",
   "execution_count": 74,
   "id": "9cb41756-6352-45d5-9dbe-dc90afc2c688",
   "metadata": {},
   "outputs": [],
   "source": [
    "data_copy['minifigs'] = data_copy['minifigs'].fillna(data_copy['minifigs'].mean())\n",
    "data_copy['US_retailPrice'] = data_copy['US_retailPrice'].fillna(data_copy['US_retailPrice'].mean())"
   ]
  },
  {
   "cell_type": "markdown",
   "id": "b81cd337",
   "metadata": {},
   "source": [
    "### Dropping useless columns"
   ]
  },
  {
   "cell_type": "code",
   "execution_count": null,
   "id": "c53a8629",
   "metadata": {},
   "outputs": [],
   "source": [
    "\n",
    "\n",
    "data_copy.drop(['agerange_min','bricksetURL','thumbnailURL','imageURL'], axis = 1,inplace = True)\n",
    "\n"
   ]
  },
  {
   "cell_type": "code",
   "execution_count": 75,
   "id": "8d59af1a-c7bd-4f03-bfb3-0d168c8cface",
   "metadata": {},
   "outputs": [
    {
     "data": {
      "text/plain": [
       "set_id               0\n",
       "name                 0\n",
       "year                 0\n",
       "theme                0\n",
       "subtheme          3556\n",
       "themeGroup           0\n",
       "category             0\n",
       "pieces               0\n",
       "minifigs             0\n",
       "US_retailPrice       0\n",
       "dtype: int64"
      ]
     },
     "execution_count": 75,
     "metadata": {},
     "output_type": "execute_result"
    }
   ],
   "source": [
    "data_copy.isnull().sum()"
   ]
  },
  {
   "cell_type": "code",
   "execution_count": 76,
   "id": "69b3b1c8-9469-429f-b5b8-c6f07061f764",
   "metadata": {},
   "outputs": [],
   "source": [
    "data_copy['subtheme'] =  data_copy['subtheme'].fillna('NA')"
   ]
  },
  {
   "cell_type": "code",
   "execution_count": 77,
   "id": "3eef3f7f-bc02-454e-b7a6-e3fe38b4c35f",
   "metadata": {},
   "outputs": [
    {
     "data": {
      "text/plain": [
       "(18457, 10)"
      ]
     },
     "execution_count": 77,
     "metadata": {},
     "output_type": "execute_result"
    }
   ],
   "source": [
    "data_copy.shape"
   ]
  },
  {
   "cell_type": "code",
   "execution_count": 78,
   "id": "ebc5c577-54ba-4bf6-920a-d55a0b836c77",
   "metadata": {},
   "outputs": [
    {
     "data": {
      "text/plain": [
       "0"
      ]
     },
     "execution_count": 78,
     "metadata": {},
     "output_type": "execute_result"
    }
   ],
   "source": [
    "data_copy.duplicated().sum()"
   ]
  },
  {
   "cell_type": "code",
   "execution_count": 79,
   "id": "c61ab19b-cb91-461b-90b8-981b46894970",
   "metadata": {},
   "outputs": [
    {
     "data": {
      "text/html": [
       "<div>\n",
       "<style scoped>\n",
       "    .dataframe tbody tr th:only-of-type {\n",
       "        vertical-align: middle;\n",
       "    }\n",
       "\n",
       "    .dataframe tbody tr th {\n",
       "        vertical-align: top;\n",
       "    }\n",
       "\n",
       "    .dataframe thead th {\n",
       "        text-align: right;\n",
       "    }\n",
       "</style>\n",
       "<table border=\"1\" class=\"dataframe\">\n",
       "  <thead>\n",
       "    <tr style=\"text-align: right;\">\n",
       "      <th></th>\n",
       "      <th>year</th>\n",
       "      <th>pieces</th>\n",
       "      <th>minifigs</th>\n",
       "      <th>US_retailPrice</th>\n",
       "    </tr>\n",
       "  </thead>\n",
       "  <tbody>\n",
       "    <tr>\n",
       "      <th>count</th>\n",
       "      <td>18457.000000</td>\n",
       "      <td>18457.000000</td>\n",
       "      <td>18457.000000</td>\n",
       "      <td>18457.000000</td>\n",
       "    </tr>\n",
       "    <tr>\n",
       "      <th>mean</th>\n",
       "      <td>2007.960611</td>\n",
       "      <td>226.473749</td>\n",
       "      <td>2.663650</td>\n",
       "      <td>37.534817</td>\n",
       "    </tr>\n",
       "    <tr>\n",
       "      <th>std</th>\n",
       "      <td>11.948666</td>\n",
       "      <td>417.043540</td>\n",
       "      <td>1.954772</td>\n",
       "      <td>33.446517</td>\n",
       "    </tr>\n",
       "    <tr>\n",
       "      <th>min</th>\n",
       "      <td>1970.000000</td>\n",
       "      <td>0.000000</td>\n",
       "      <td>1.000000</td>\n",
       "      <td>1.490000</td>\n",
       "    </tr>\n",
       "    <tr>\n",
       "      <th>25%</th>\n",
       "      <td>2001.000000</td>\n",
       "      <td>32.000000</td>\n",
       "      <td>2.000000</td>\n",
       "      <td>29.990000</td>\n",
       "    </tr>\n",
       "    <tr>\n",
       "      <th>50%</th>\n",
       "      <td>2011.000000</td>\n",
       "      <td>136.000000</td>\n",
       "      <td>2.663650</td>\n",
       "      <td>37.534817</td>\n",
       "    </tr>\n",
       "    <tr>\n",
       "      <th>75%</th>\n",
       "      <td>2017.000000</td>\n",
       "      <td>226.473749</td>\n",
       "      <td>2.663650</td>\n",
       "      <td>37.534817</td>\n",
       "    </tr>\n",
       "    <tr>\n",
       "      <th>max</th>\n",
       "      <td>2022.000000</td>\n",
       "      <td>11695.000000</td>\n",
       "      <td>80.000000</td>\n",
       "      <td>849.990000</td>\n",
       "    </tr>\n",
       "  </tbody>\n",
       "</table>\n",
       "</div>"
      ],
      "text/plain": [
       "               year        pieces      minifigs  US_retailPrice\n",
       "count  18457.000000  18457.000000  18457.000000    18457.000000\n",
       "mean    2007.960611    226.473749      2.663650       37.534817\n",
       "std       11.948666    417.043540      1.954772       33.446517\n",
       "min     1970.000000      0.000000      1.000000        1.490000\n",
       "25%     2001.000000     32.000000      2.000000       29.990000\n",
       "50%     2011.000000    136.000000      2.663650       37.534817\n",
       "75%     2017.000000    226.473749      2.663650       37.534817\n",
       "max     2022.000000  11695.000000     80.000000      849.990000"
      ]
     },
     "execution_count": 79,
     "metadata": {},
     "output_type": "execute_result"
    }
   ],
   "source": [
    "data_copy.describe()"
   ]
  },
  {
   "cell_type": "markdown",
   "id": "efcbb469",
   "metadata": {},
   "source": [
    "### Typecasting & rounding up price"
   ]
  },
  {
   "cell_type": "code",
   "execution_count": 80,
   "id": "aea99b9f-2a96-467f-bccc-f4b1df8f48a3",
   "metadata": {},
   "outputs": [],
   "source": [
    "data_copy['US_retailPrice'] = data_copy['US_retailPrice'].apply(lambda x : round(x, 2))\n",
    "data_copy[['pieces', 'minifigs']] = data_copy[['pieces', 'minifigs']].astype(int)"
   ]
  },
  {
   "cell_type": "code",
   "execution_count": 81,
   "id": "c87649f1-4e21-4c34-aaa6-1554fffe2554",
   "metadata": {},
   "outputs": [
    {
     "data": {
      "text/html": [
       "<div>\n",
       "<style scoped>\n",
       "    .dataframe tbody tr th:only-of-type {\n",
       "        vertical-align: middle;\n",
       "    }\n",
       "\n",
       "    .dataframe tbody tr th {\n",
       "        vertical-align: top;\n",
       "    }\n",
       "\n",
       "    .dataframe thead th {\n",
       "        text-align: right;\n",
       "    }\n",
       "</style>\n",
       "<table border=\"1\" class=\"dataframe\">\n",
       "  <thead>\n",
       "    <tr style=\"text-align: right;\">\n",
       "      <th></th>\n",
       "      <th>set_id</th>\n",
       "      <th>name</th>\n",
       "      <th>year</th>\n",
       "      <th>theme</th>\n",
       "      <th>subtheme</th>\n",
       "      <th>themeGroup</th>\n",
       "      <th>category</th>\n",
       "      <th>pieces</th>\n",
       "      <th>minifigs</th>\n",
       "      <th>US_retailPrice</th>\n",
       "    </tr>\n",
       "  </thead>\n",
       "  <tbody>\n",
       "    <tr>\n",
       "      <th>0</th>\n",
       "      <td>1-8</td>\n",
       "      <td>Small house set</td>\n",
       "      <td>1970</td>\n",
       "      <td>Minitalia</td>\n",
       "      <td>NA</td>\n",
       "      <td>Vintage</td>\n",
       "      <td>Normal</td>\n",
       "      <td>67</td>\n",
       "      <td>2</td>\n",
       "      <td>37.53</td>\n",
       "    </tr>\n",
       "    <tr>\n",
       "      <th>1</th>\n",
       "      <td>2-8</td>\n",
       "      <td>Medium house set</td>\n",
       "      <td>1970</td>\n",
       "      <td>Minitalia</td>\n",
       "      <td>NA</td>\n",
       "      <td>Vintage</td>\n",
       "      <td>Normal</td>\n",
       "      <td>109</td>\n",
       "      <td>2</td>\n",
       "      <td>37.53</td>\n",
       "    </tr>\n",
       "    <tr>\n",
       "      <th>2</th>\n",
       "      <td>3-6</td>\n",
       "      <td>Medium house set</td>\n",
       "      <td>1970</td>\n",
       "      <td>Minitalia</td>\n",
       "      <td>NA</td>\n",
       "      <td>Vintage</td>\n",
       "      <td>Normal</td>\n",
       "      <td>158</td>\n",
       "      <td>2</td>\n",
       "      <td>37.53</td>\n",
       "    </tr>\n",
       "    <tr>\n",
       "      <th>3</th>\n",
       "      <td>4-4</td>\n",
       "      <td>Large house set</td>\n",
       "      <td>1970</td>\n",
       "      <td>Minitalia</td>\n",
       "      <td>NA</td>\n",
       "      <td>Vintage</td>\n",
       "      <td>Normal</td>\n",
       "      <td>233</td>\n",
       "      <td>2</td>\n",
       "      <td>37.53</td>\n",
       "    </tr>\n",
       "    <tr>\n",
       "      <th>4</th>\n",
       "      <td>4-6</td>\n",
       "      <td>Mini House and Vehicles</td>\n",
       "      <td>1970</td>\n",
       "      <td>Samsonite</td>\n",
       "      <td>Model Maker</td>\n",
       "      <td>Vintage</td>\n",
       "      <td>Normal</td>\n",
       "      <td>226</td>\n",
       "      <td>2</td>\n",
       "      <td>37.53</td>\n",
       "    </tr>\n",
       "    <tr>\n",
       "      <th>...</th>\n",
       "      <td>...</td>\n",
       "      <td>...</td>\n",
       "      <td>...</td>\n",
       "      <td>...</td>\n",
       "      <td>...</td>\n",
       "      <td>...</td>\n",
       "      <td>...</td>\n",
       "      <td>...</td>\n",
       "      <td>...</td>\n",
       "      <td>...</td>\n",
       "    </tr>\n",
       "    <tr>\n",
       "      <th>18452</th>\n",
       "      <td>SHUTTLE-1</td>\n",
       "      <td>Space Shuttle</td>\n",
       "      <td>2022</td>\n",
       "      <td>Promotional</td>\n",
       "      <td>LEGO brand stores</td>\n",
       "      <td>Miscellaneous</td>\n",
       "      <td>Other</td>\n",
       "      <td>226</td>\n",
       "      <td>2</td>\n",
       "      <td>37.53</td>\n",
       "    </tr>\n",
       "    <tr>\n",
       "      <th>18453</th>\n",
       "      <td>SLSDUCK-1</td>\n",
       "      <td>SLS Duck</td>\n",
       "      <td>2022</td>\n",
       "      <td>Promotional</td>\n",
       "      <td>LEGO House</td>\n",
       "      <td>Miscellaneous</td>\n",
       "      <td>Other</td>\n",
       "      <td>1</td>\n",
       "      <td>2</td>\n",
       "      <td>37.53</td>\n",
       "    </tr>\n",
       "    <tr>\n",
       "      <th>18454</th>\n",
       "      <td>SUMMERWAVE-1</td>\n",
       "      <td>Summer Wave</td>\n",
       "      <td>2022</td>\n",
       "      <td>Promotional</td>\n",
       "      <td>LEGO Brand Stores</td>\n",
       "      <td>Miscellaneous</td>\n",
       "      <td>Other</td>\n",
       "      <td>39</td>\n",
       "      <td>2</td>\n",
       "      <td>37.53</td>\n",
       "    </tr>\n",
       "    <tr>\n",
       "      <th>18455</th>\n",
       "      <td>TRUSPIDERMAN-1</td>\n",
       "      <td>Spider-Man</td>\n",
       "      <td>2022</td>\n",
       "      <td>Marvel Super Heroes</td>\n",
       "      <td>Spider-Man</td>\n",
       "      <td>Licensed</td>\n",
       "      <td>Other</td>\n",
       "      <td>43</td>\n",
       "      <td>2</td>\n",
       "      <td>37.53</td>\n",
       "    </tr>\n",
       "    <tr>\n",
       "      <th>18456</th>\n",
       "      <td>YOTT-1</td>\n",
       "      <td>Tiger</td>\n",
       "      <td>2022</td>\n",
       "      <td>Miscellaneous</td>\n",
       "      <td>NA</td>\n",
       "      <td>Miscellaneous</td>\n",
       "      <td>Other</td>\n",
       "      <td>226</td>\n",
       "      <td>2</td>\n",
       "      <td>37.53</td>\n",
       "    </tr>\n",
       "  </tbody>\n",
       "</table>\n",
       "<p>18457 rows × 10 columns</p>\n",
       "</div>"
      ],
      "text/plain": [
       "               set_id                     name  year                theme  \\\n",
       "0                 1-8          Small house set  1970            Minitalia   \n",
       "1                 2-8         Medium house set  1970            Minitalia   \n",
       "2                 3-6         Medium house set  1970            Minitalia   \n",
       "3                 4-4          Large house set  1970            Minitalia   \n",
       "4                 4-6  Mini House and Vehicles  1970            Samsonite   \n",
       "...               ...                      ...   ...                  ...   \n",
       "18452       SHUTTLE-1            Space Shuttle  2022          Promotional   \n",
       "18453       SLSDUCK-1                 SLS Duck  2022          Promotional   \n",
       "18454    SUMMERWAVE-1              Summer Wave  2022          Promotional   \n",
       "18455  TRUSPIDERMAN-1               Spider-Man  2022  Marvel Super Heroes   \n",
       "18456          YOTT-1                    Tiger  2022        Miscellaneous   \n",
       "\n",
       "                subtheme     themeGroup category  pieces  minifigs  \\\n",
       "0                     NA        Vintage   Normal      67         2   \n",
       "1                     NA        Vintage   Normal     109         2   \n",
       "2                     NA        Vintage   Normal     158         2   \n",
       "3                     NA        Vintage   Normal     233         2   \n",
       "4            Model Maker        Vintage   Normal     226         2   \n",
       "...                  ...            ...      ...     ...       ...   \n",
       "18452  LEGO brand stores  Miscellaneous    Other     226         2   \n",
       "18453         LEGO House  Miscellaneous    Other       1         2   \n",
       "18454  LEGO Brand Stores  Miscellaneous    Other      39         2   \n",
       "18455         Spider-Man       Licensed    Other      43         2   \n",
       "18456                 NA  Miscellaneous    Other     226         2   \n",
       "\n",
       "       US_retailPrice  \n",
       "0               37.53  \n",
       "1               37.53  \n",
       "2               37.53  \n",
       "3               37.53  \n",
       "4               37.53  \n",
       "...               ...  \n",
       "18452           37.53  \n",
       "18453           37.53  \n",
       "18454           37.53  \n",
       "18455           37.53  \n",
       "18456           37.53  \n",
       "\n",
       "[18457 rows x 10 columns]"
      ]
     },
     "execution_count": 81,
     "metadata": {},
     "output_type": "execute_result"
    }
   ],
   "source": [
    "data_copy"
   ]
  },
  {
   "cell_type": "markdown",
   "id": "de4abc3a",
   "metadata": {},
   "source": [
    "### To determine the decade"
   ]
  },
  {
   "cell_type": "code",
   "execution_count": 82,
   "id": "d07a5cef-e077-4395-8fd6-fc738ada8e4f",
   "metadata": {},
   "outputs": [],
   "source": [
    "data_copy['decade'] = data_copy['year']//10*10"
   ]
  },
  {
   "cell_type": "code",
   "execution_count": 83,
   "id": "a36e94de-db3c-4ef3-b800-601ae6510682",
   "metadata": {},
   "outputs": [
    {
     "data": {
      "text/plain": [
       "year  decade\n",
       "1970  1970       41\n",
       "1971  1970       78\n",
       "1972  1970       45\n",
       "1973  1970       76\n",
       "1974  1970       40\n",
       "1975  1970       45\n",
       "1976  1970       76\n",
       "1977  1970       74\n",
       "1978  1970       87\n",
       "1979  1970       90\n",
       "1980  1980      117\n",
       "1981  1980       74\n",
       "1982  1980       73\n",
       "1983  1980       76\n",
       "1984  1980       84\n",
       "1985  1980      141\n",
       "1986  1980      152\n",
       "1987  1980      200\n",
       "1988  1980       79\n",
       "1989  1980      146\n",
       "1990  1990      129\n",
       "1991  1990      147\n",
       "1992  1990      112\n",
       "1993  1990      168\n",
       "1994  1990      154\n",
       "1995  1990      172\n",
       "1996  1990      213\n",
       "1997  1990      264\n",
       "1998  1990      383\n",
       "1999  1990      352\n",
       "2000  2000      384\n",
       "2001  2000      409\n",
       "2002  2000      449\n",
       "2003  2000      426\n",
       "2004  2000      419\n",
       "2005  2000      395\n",
       "2006  2000      467\n",
       "2007  2000      449\n",
       "2008  2000      443\n",
       "2009  2000      487\n",
       "2010  2010      529\n",
       "2011  2010      591\n",
       "2012  2010      703\n",
       "2013  2010      710\n",
       "2014  2010      757\n",
       "2015  2010      808\n",
       "2016  2010      845\n",
       "2017  2010      861\n",
       "2018  2010      829\n",
       "2019  2010      848\n",
       "2020  2020      849\n",
       "2021  2020      944\n",
       "2022  2020      967\n",
       "Name: count, dtype: int64"
      ]
     },
     "execution_count": 83,
     "metadata": {},
     "output_type": "execute_result"
    }
   ],
   "source": [
    "data_copy.groupby('year')['decade'].value_counts()"
   ]
  },
  {
   "cell_type": "code",
   "execution_count": 85,
   "id": "a70d378a-bcb7-410e-b2b6-6813b9f238c4",
   "metadata": {},
   "outputs": [],
   "source": [
    "data_copy.to_excel(r'C:\\Users\\ADMIN\\Desktop\\projects\\LEGO+Sets\\lego_sets_cleaned.xlsx', index=False)"
   ]
  },
  {
   "cell_type": "code",
   "execution_count": null,
   "id": "355a4cbe-e87d-4788-8e4e-675c01214934",
   "metadata": {},
   "outputs": [],
   "source": []
  }
 ],
 "metadata": {
  "kernelspec": {
   "display_name": "Python 3 (ipykernel)",
   "language": "python",
   "name": "python3"
  },
  "language_info": {
   "codemirror_mode": {
    "name": "ipython",
    "version": 3
   },
   "file_extension": ".py",
   "mimetype": "text/x-python",
   "name": "python",
   "nbconvert_exporter": "python",
   "pygments_lexer": "ipython3",
   "version": "3.12.3"
  }
 },
 "nbformat": 4,
 "nbformat_minor": 5
}
